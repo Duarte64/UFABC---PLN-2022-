{
 "cells": [
  {
   "cell_type": "markdown",
   "metadata": {},
   "source": [
    "## Encontrando todos os valores monetários em US$ no texto!"
   ]
  },
  {
   "cell_type": "code",
   "execution_count": 15,
   "metadata": {},
   "outputs": [
    {
     "name": "stdout",
     "output_type": "stream",
     "text": [
      "['US$ 473,9', 'US$ 385,8', 'US$ 4,44', 'US$ 3,96']\n"
     ]
    }
   ],
   "source": [
    "import re;\n",
    "\n",
    "moneyRegex = re.compile(r'US\\$ [\\d]*?,[\\d]+')\n",
    "allOcurrencies = list()\n",
    "\n",
    "text = open('./archives/aula03text.txt', 'r')\n",
    "lines = text.readlines()\n",
    "\n",
    "for line in lines:\n",
    "    match = moneyRegex.findall(line)\n",
    "    if(match):\n",
    "        for item in match:\n",
    "            allOcurrencies.append(item)\n",
    "\n",
    "print(allOcurrencies)\n",
    "\n",
    "text.close()"
   ]
  }
 ],
 "metadata": {
  "kernelspec": {
   "display_name": "Python 3.8.10 64-bit (windows store)",
   "language": "python",
   "name": "python3"
  },
  "language_info": {
   "codemirror_mode": {
    "name": "ipython",
    "version": 3
   },
   "file_extension": ".py",
   "mimetype": "text/x-python",
   "name": "python",
   "nbconvert_exporter": "python",
   "pygments_lexer": "ipython3",
   "version": "3.8.10"
  },
  "orig_nbformat": 4,
  "vscode": {
   "interpreter": {
    "hash": "fa622255ebb2ba58ff80bbac4721781d244210bc288015364396598b839389b7"
   }
  }
 },
 "nbformat": 4,
 "nbformat_minor": 2
}
